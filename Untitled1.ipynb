{
 "cells": [
  {
   "cell_type": "code",
   "execution_count": 4,
   "id": "87df84c0-df13-43fd-8a65-795079dbea41",
   "metadata": {
    "tags": []
   },
   "outputs": [],
   "source": [
    "import wikipediaapi"
   ]
  },
  {
   "cell_type": "code",
   "execution_count": 14,
   "id": "2a858889-a062-40bd-9c1a-1c03814b62d4",
   "metadata": {
    "tags": []
   },
   "outputs": [],
   "source": [
    "import wikipediaapi\n",
    "wiki_wiki = wikipediaapi.Wikipedia(user_agent='rakinmunim (rakin374@gmail.com)', language='en')\n",
    "\n",
    "page_py = wiki_wiki.page('Python_(programming_language)')"
   ]
  },
  {
   "cell_type": "code",
   "execution_count": 8,
   "id": "8401e345-a916-48bd-891f-f128ea2db9be",
   "metadata": {
    "tags": []
   },
   "outputs": [
    {
     "data": {
      "text/plain": [
       "Python_(programming_language) (lang: en, variant: None, id: ??, ns: 0)"
      ]
     },
     "execution_count": 8,
     "metadata": {},
     "output_type": "execute_result"
    }
   ],
   "source": [
    "page_py"
   ]
  },
  {
   "cell_type": "code",
   "execution_count": 10,
   "id": "5c389697-cd9e-4f41-a09d-36878c065494",
   "metadata": {
    "tags": []
   },
   "outputs": [
    {
     "name": "stdout",
     "output_type": "stream",
     "text": [
      "Page - Exists: True\n",
      "Page - Exists: False\n"
     ]
    }
   ],
   "source": [
    "page_py = wiki_wiki.page('Python_(programming_language)')\n",
    "print(\"Page - Exists: %s\" % page_py.exists())\n",
    "# Page - Exists: True\n",
    "\n",
    "page_missing = wiki_wiki.page('NonExistingPageWithStrangeName')\n",
    "print(\"Page - Exists: %s\" %     page_missing.exists())\n",
    "# Page - Exists: False"
   ]
  },
  {
   "cell_type": "code",
   "execution_count": 12,
   "id": "f0d0f56c-389f-4250-bafd-d4909849b3a4",
   "metadata": {
    "tags": []
   },
   "outputs": [
    {
     "name": "stdout",
     "output_type": "stream",
     "text": [
      "Page - Title: Python (programming language)\n",
      "Page - Summary: Python is a high-level, general-purpose programming language\n"
     ]
    }
   ],
   "source": [
    "import wikipediaapi\n",
    "wiki_wiki = wikipediaapi.Wikipedia('MyProjectName (merlin@example.com)', 'en')\n",
    "\n",
    "print(\"Page - Title: %s\" % page_py.title)\n",
    "# Page - Title: Python (programming language)\n",
    "\n",
    "print(\"Page - Summary: %s\" % page_py.summary[0:60])\n",
    "# Page - Summary: Python is a widely used high-level programming language for"
   ]
  },
  {
   "cell_type": "code",
   "execution_count": 22,
   "id": "d025d919-49af-44d2-9e09-c22de54109df",
   "metadata": {
    "tags": []
   },
   "outputs": [
    {
     "name": "stdout",
     "output_type": "stream",
     "text": [
      "\n",
      "<p><b>Python</b> may refer to:\n",
      "</p>\n",
      "\n",
      "<h2>Snakes</h2>\n",
      "<ul><li>Pythonidae, a family of nonvenomous snakes found in Africa, Asia, and Australia\n",
      "<ul><li><i>Python</i> (genus), a genus of Pythonidae found in Africa and Asia</li></ul></li>\n",
      "<li>Python (mythology), a mythical serpent</li></ul>\n",
      "\n",
      "<h2>Computing</h2>\n",
      "<ul><li>Python (programming language), a widely used high-level programming language</li>\n",
      "<li>Python, a native code compiler for CMU Common Lisp</li>\n",
      "<li>Python, the internal project name for the PERQ 3 computer workstation</li></ul>\n",
      "\n",
      "<h2>People</h2>\n",
      "<ul><li>Python of Aenus (4th-century BCE), student of Plato</li>\n",
      "<li>Python (painter) (ca. 360–320 BCE), vase painter in Poseidonia</li>\n",
      "<li>Python of Byzantium (4th-century BCE), orator, diplomat of Philip II of Macedon</li>\n",
      "<li>Python of Catana, poet who accompanied Alexander the Great</li>\n",
      "<li>Python Anghelo (1954–2014), Romanian graphic artist</li></ul>\n",
      "\n",
      "<h2>Roller coasters</h2>\n",
      "<ul><li>Python (Efteling), a roller coaster in the Netherlands</li>\n",
      "<li>Python (Busch Gardens Tampa Bay), a defunct roller coaster</li>\n",
      "<li>Python (Coney Island, Cincinnati, Ohio), a steel roller coaster</li></ul>\n",
      "\n",
      "<h2>Vehicles</h2>\n",
      "<ul><li>Python (automobile maker), an Australian car company</li>\n",
      "<li>Python (Ford prototype), a Ford prototype sports car</li></ul>\n",
      "\n",
      "<h2>Weaponry</h2>\n",
      "<ul><li>Python (missile), a series of Israeli air-to-air missiles</li>\n",
      "<li>Python (nuclear primary), a gas-boosted fission primary used in thermonuclear weapons</li>\n",
      "<li>Colt Python, a revolver</li></ul>\n",
      "\n",
      "<h2>Other uses</h2>\n",
      "<ul><li>Python (codename), a British nuclear war contingency plan</li>\n",
      "<li><i>Python</i> (film), a 2000 horror film by Richard Clabaugh</li>\n",
      "<li>Monty Python or the Pythons, a British comedy group\n",
      "<ul><li>Python (Monty) Pictures, a company owned by the troupe's surviving members</li></ul></li>\n",
      "<li><i>Python</i>, a work written by philosopher Timon of Phlius</li></ul>\n",
      "\n",
      "<h2>See also</h2>\n",
      "<ul><li>Pithon, a commune in northern France</li>\n",
      "<li><i>Pyton</i>, a Norwegian magazine</li></ul>\n"
     ]
    }
   ],
   "source": [
    "wiki_wiki = wikipediaapi.Wikipedia(\n",
    "    user_agent='MyProjectName (merlin@example.com)',\n",
    "    language='en',\n",
    "    extract_format=wikipediaapi.ExtractFormat.WIKI\n",
    ")\n",
    "\n",
    "p_wiki = wiki_wiki.page(\"Test 1\")\n",
    "print(p_wiki.text)\n",
    "# Summary\n",
    "# Section 1\n",
    "# Text of section 1\n",
    "# Section 1.1\n",
    "# Text of section 1.1\n",
    "# ...\n",
    "\n",
    "\n",
    "wiki_html = wikipediaapi.Wikipedia(\n",
    "    user_agent='MyProjectName (merlin@example.com)',\n",
    "    language='en',\n",
    "    extract_format=wikipediaapi.ExtractFormat.HTML\n",
    ")\n",
    "p_html = wiki_html.page(\"python\")\n",
    "print(p_html.text)\n",
    "# <p>Summary</p>\n",
    "# <h2>Section 1</h2>\n",
    "# <p>Text of section 1</p>\n",
    "# <h3>Section 1.1</h3>\n",
    "# <p>Text of section 1.1</p>\n",
    "# ..."
   ]
  },
  {
   "cell_type": "code",
   "execution_count": null,
   "id": "cbe275b2-e0c2-4cb8-abbc-33d15dab92c6",
   "metadata": {},
   "outputs": [],
   "source": [
    "print(p_html.text)"
   ]
  },
  {
   "cell_type": "code",
   "execution_count": 24,
   "id": "04eaffa9-bdb5-4e8e-aa00-8c7c17bbd828",
   "metadata": {
    "tags": []
   },
   "outputs": [],
   "source": [
    "def print_sections(sections, level=0):\n",
    "    for s in sections:\n",
    "        print(\"%s: %s - %s\" % (\"*\" * (level + 1), s.title, s.text[0:40]))\n",
    "        print_sections(s.sections, level + 1)"
   ]
  },
  {
   "cell_type": "code",
   "execution_count": 26,
   "id": "611f8d8d-6d46-4602-862c-afbe31718377",
   "metadata": {
    "tags": []
   },
   "outputs": [
    {
     "name": "stdout",
     "output_type": "stream",
     "text": [
      "*: History - Python was conceived in the late 1980s b\n",
      "*: Design philosophy and features - Python is a multi-paradigm programming l\n",
      "*: Syntax and semantics - Python is meant to be an easily readable\n",
      "**: Indentation - Python uses whitespace indentation, rath\n",
      "**: Statements and control flow - Python's statements include:\n",
      "\n",
      "The assign\n",
      "**: Expressions - Python's expressions include:\n",
      "\n",
      "The +, -,\n",
      "**: Methods - Methods on objects are functions attache\n",
      "**: Typing - Python uses duck typing and has typed ob\n",
      "**: Arithmetic operations - Python has the usual symbols for arithme\n",
      "**: Function syntax - Functions are created in Python using th\n",
      "*: Programming examples - \"Hello, World!\" program:\n",
      "\n",
      "Program to cal\n",
      "*: Libraries - Python's large standard library is commo\n",
      "*: Development environments - Most Python implementations (including C\n",
      "*: Implementations - \n",
      "**: Reference implementation - CPython is the reference implementation \n",
      "**: Other implementations - All alternative implementations have at \n",
      "**: No longer supported implementations - Other just-in-time Python compilers have\n",
      "**: Cross-compilers to other languages - There are several compilers/transpilers \n",
      "**: Performance - Performance comparison of various Python\n",
      "*: Development - Python's development is conducted largel\n",
      "*: API documentation generators - Tools that can generate documentation fo\n",
      "*: Naming - Python's name is derived from the Britis\n",
      "*: Popularity - Since 2003, Python has consistently rank\n",
      "*: Uses - Python can serve as a scripting language\n",
      "*: Languages influenced by Python - Python's design and philosophy have infl\n",
      "*: See also - Python syntax and semantics\n",
      "pip (package\n",
      "*: References - \n",
      "**: Sources - \"Python for Artificial Intelligence\". Py\n",
      "*: Further reading - Downey, Allen (July 2024). Think Python:\n",
      "*: External links - \n",
      "Official website \n",
      "The Python Tutorial\n"
     ]
    }
   ],
   "source": [
    "print_sections(page_py.sections)"
   ]
  },
  {
   "cell_type": "code",
   "execution_count": 28,
   "id": "b55b1c13-06a3-4aff-971a-75af921d271e",
   "metadata": {
    "tags": []
   },
   "outputs": [
    {
     "name": "stdout",
     "output_type": "stream",
     "text": [
      "Programming language\n",
      "ABAP\n",
      "Ada (programming language)\n",
      "Address (programming language)\n",
      "Agda (programming language)\n",
      "ALGOL 68\n",
      "Apache Groovy\n",
      "APL (programming language)\n",
      "Apple (programming language)\n",
      "AppleScript\n",
      "AspectJ\n",
      "B (programming language)\n",
      "BASIC\n",
      "Behavioral Description Language\n",
      "BLISS\n",
      "Boo (programming language)\n",
      "Boomerang (programming language)\n",
      "Bs (programming language)\n",
      "Cameleon (programming language)\n",
      "C Sharp (programming language)\n",
      "Caml\n",
      "Carbon (programming language)\n",
      "Cedar (programming language)\n",
      "Céu (programming language)\n",
      "Charm (programming language)\n",
      "Clascal\n",
      "Clipper (programming language)\n",
      "Clojure\n",
      "COMAL\n",
      "Concordion\n",
      "Concurrent Haskell\n",
      "COWSEL\n",
      "Crystal (programming language)\n",
      "Cuneiform (programming language)\n",
      "D (programming language)\n",
      "DARSIMCO\n",
      "Dartmouth Oversimplified Programming Experiment\n",
      "Darwin (programming language)\n",
      "DataFlex\n",
      "Deductive language\n",
      "DIBOL\n",
      "E (programming language)\n",
      "ELAN (programming language)\n",
      "Elixir (programming language)\n",
      "Erlang (programming language)\n",
      "EXAPT\n",
      "F (programming language)\n",
      "Factor (programming language)\n",
      "Flow chart language\n",
      "Flowcode\n",
      "Forth (programming language)\n",
      "FreeBASIC\n",
      "Futhark (programming language)\n",
      "FX-87\n",
      "General-purpose programming language\n",
      "GEORGE (programming language)\n",
      "Gleam (programming language)\n",
      "Go (programming language)\n",
      "Golo (programming language)\n",
      "GOLOG\n",
      "Gosu (programming language)\n",
      "Haggis (programming language)\n",
      "Haxe\n",
      "Hermes (programming language)\n",
      "Io (programming language)\n",
      "Janus (time-reversible computing programming language)\n",
      "Java (programming language)\n",
      "Java technology\n",
      "JavaScript\n",
      "Jolie (programming language)\n",
      "Joy (programming language)\n",
      "Jq (programming language)\n",
      "JS++\n",
      "Julia (programming language)\n",
      "K (programming language)\n",
      "Kinetic Rule Language\n",
      "Kojo (learning environment)\n",
      "KOMPILER\n",
      "Kotlin (programming language)\n",
      "Language interoperability\n",
      "LFE (programming language)\n",
      "Lightweight programming language\n",
      "Linda (coordination language)\n",
      "Lisp (programming language)\n",
      "List of open-source programming languages\n",
      "Little b (programming language)\n",
      "LiveCode\n",
      "Logo (programming language)\n",
      "Lua (programming language)\n",
      "Macroprogramming\n",
      "MATH-MATIC\n",
      "Mercury (RemObjects BASIC programming language)\n",
      "MiniKanren\n",
      "Mocklisp\n",
      "Mojo (programming language)\n",
      "Multi-adjoint logic programming\n",
      "Nemerle\n",
      "Nim (programming language)\n",
      "OpenQASM\n",
      "Pencil Code (programming language)\n",
      "Perl\n",
      "Petit Computer\n",
      "Pharo\n",
      "PHP\n",
      "PIC (markup language)\n",
      "Pico (programming language)\n",
      "PL/M\n",
      "POP-2\n",
      "Processing\n",
      "Programming Languages: Application and Interpretation\n",
      "PureBasic\n",
      "PV-Wave\n",
      "Python (programming language)\n",
      "Qore (programming language)\n",
      "Quantum Computation Language\n",
      "Raku (programming language)\n",
      "Real-time Programming Language\n",
      "Rebol\n",
      "Red (programming language)\n",
      "Refal\n",
      "Ring (programming language)\n",
      "Rosetta Code\n",
      "S-PLUS\n",
      "Scala (programming language)\n",
      "Scientific Vector Language\n",
      "Scriptol\n",
      "Self (programming language)\n",
      "SenseTalk\n",
      "Simula\n",
      "SLIP (programming language)\n",
      "Smalltalk\n",
      "Smart Pascal\n",
      "SNOBOL\n",
      "Source (programming language)\n",
      "Squeak\n",
      "Squirrel (programming language)\n",
      "StaDyn (programming language)\n",
      "Structured text\n",
      "Swift (parallel scripting language)\n",
      "Swift (programming language)\n",
      "Synergy DBL\n",
      "Tea (programming language)\n",
      "TI-BASIC 83\n",
      "TREE-META\n",
      "TreeDL\n",
      "Trellis-Owl\n",
      "Tritium (programming language)\n",
      "TTCN-3\n",
      "Tuple space\n",
      "TypeScript\n",
      "Universal Test Specification Language\n",
      "V (programming language)\n",
      "Vala (programming language)\n",
      "Visual Basic (classic)\n",
      "Visual FoxPro\n",
      "Visual Prolog\n",
      "XPL\n",
      "XSLT\n",
      "Zig (programming language)\n",
      "Category:Compilers by programming language\n",
      "Category:Programming language families\n",
      "Category:Software by programming language\n",
      "Category:Programming languages conferences\n",
      "Category:Criticisms of programming languages\n",
      "Category:Programming languages by creation date\n",
      "Category:Programming languages created by women\n",
      "Category:Lists of programming languages\n",
      "Category:Academic programming languages\n",
      "Category:Agent-based programming languages\n",
      "Category:Algebraic modeling languages\n",
      "Category:Compiled programming languages\n",
      "Category:Concatenative programming languages\n",
      "Category:Concurrent programming languages\n",
      "Category:Constraint programming languages\n",
      "Category:Creative coding\n",
      "Category:Data-centric programming languages\n",
      "Category:Data-oriented programming\n",
      "Category:Data-structured programming languages\n",
      "Category:Declarative programming languages\n",
      "Category:Dependently typed languages\n",
      "Category:Digital Research languages\n",
      "Category:Discontinued programming languages\n",
      "Category:Domain-specific programming languages\n",
      "Category:Dynamic programming languages\n",
      "Category:Dynamically typed programming languages\n",
      "Category:Esoteric programming languages\n",
      "Category:Experimental programming languages\n",
      "Category:Extensible syntax programming languages\n",
      "Category:Formula manipulation languages\n",
      "Category:Function-level languages\n",
      "Category:Functional languages\n",
      "Category:High Integrity Programming Language\n",
      "Category:High-level programming languages\n",
      "Category:Programming languages with an ISO standard\n",
      "Category:Low-level programming languages\n",
      "Category:Microsoft programming languages\n",
      "Category:Multi-paradigm programming languages\n",
      "Category:Non-English-based programming languages\n",
      "Category:Nondeterministic programming languages\n",
      "Category:Object-based programming languages\n",
      "Category:Pattern matching programming languages\n",
      "Category:Procedural programming languages\n",
      "Category:Process termination functions\n",
      "Category:Programming languages supporting units of measure\n",
      "Category:Prototype-based programming languages\n",
      "Category:Reactive programming languages\n",
      "Category:Programming language syntax\n",
      "Category:Secure programming languages\n",
      "Category:Set theoretic programming languages\n",
      "Category:Shading languages\n",
      "Category:Standardized programming languages\n",
      "Category:Programming language standards\n",
      "Category:Statically typed programming languages\n",
      "Category:Synchronous programming languages\n",
      "Category:Term-rewriting programming languages\n",
      "Category:Text-oriented programming languages\n",
      "Category:Visual programming languages\n",
      "Category:XML-based programming languages\n",
      "Category:Wikipedia categories named after programming languages\n"
     ]
    }
   ],
   "source": [
    "import wikipediaapi\n",
    "\n",
    "wiki = wikipediaapi.Wikipedia(user_agent='r (rakin374@gmail.com)', language='en')\n",
    "\n",
    "# Get the 'Programming Languages' category\n",
    "category = wiki.page(\"Category:Programming_languages\")\n",
    "\n",
    "# List all pages in this category\n",
    "for subpage in category.categorymembers.values():\n",
    "    print(subpage.title)"
   ]
  },
  {
   "cell_type": "code",
   "execution_count": 34,
   "id": "026e62a6-54ab-406a-9061-8fad25509ad7",
   "metadata": {
    "tags": []
   },
   "outputs": [
    {
     "ename": "KeyError",
     "evalue": "'query'",
     "output_type": "error",
     "traceback": [
      "\u001b[0;31m---------------------------------------------------------------------------\u001b[0m",
      "\u001b[0;31mKeyError\u001b[0m                                  Traceback (most recent call last)",
      "Cell \u001b[0;32mIn[34], line 15\u001b[0m\n\u001b[1;32m     12\u001b[0m data \u001b[38;5;241m=\u001b[39m response\u001b[38;5;241m.\u001b[39mjson()\n\u001b[1;32m     14\u001b[0m \u001b[38;5;66;03m# Print the title of each page\u001b[39;00m\n\u001b[0;32m---> 15\u001b[0m \u001b[38;5;28;01mfor\u001b[39;00m page \u001b[38;5;129;01min\u001b[39;00m data[\u001b[38;5;124m\"\u001b[39m\u001b[38;5;124mquery\u001b[39m\u001b[38;5;124m\"\u001b[39m][\u001b[38;5;124m\"\u001b[39m\u001b[38;5;124mallpages\u001b[39m\u001b[38;5;124m\"\u001b[39m]:\n\u001b[1;32m     16\u001b[0m     \u001b[38;5;28mprint\u001b[39m(page[\u001b[38;5;124m\"\u001b[39m\u001b[38;5;124mtitle\u001b[39m\u001b[38;5;124m\"\u001b[39m])\n",
      "\u001b[0;31mKeyError\u001b[0m: 'query'"
     ]
    }
   ],
   "source": [
    "import requests\n",
    "\n",
    "url = \"https://en.wikipedia.org/w/api.php\"\n",
    "params = {\n",
    "    \"action\": \"query\",\n",
    "    \"list\": \"languages\",\n",
    "    \"aplimit\": \"5\",  # You can limit the number of pages returned here\n",
    "    \"format\": \"json\"\n",
    "}\n",
    "\n",
    "response = requests.get(url, params=params)\n",
    "data = response.json()\n",
    "\n",
    "# Print the title of each page\n",
    "for page in data[\"query\"][\"allpages\"]:\n",
    "    print(page[\"title\"])"
   ]
  },
  {
   "cell_type": "code",
   "execution_count": null,
   "id": "0f9ba31a-ecfe-405b-bf60-a6181edc3180",
   "metadata": {},
   "outputs": [],
   "source": []
  }
 ],
 "metadata": {
  "kernelspec": {
   "display_name": "Python 3 (ipykernel)",
   "language": "python",
   "name": "python3"
  },
  "language_info": {
   "codemirror_mode": {
    "name": "ipython",
    "version": 3
   },
   "file_extension": ".py",
   "mimetype": "text/x-python",
   "name": "python",
   "nbconvert_exporter": "python",
   "pygments_lexer": "ipython3",
   "version": "3.11.7"
  }
 },
 "nbformat": 4,
 "nbformat_minor": 5
}
