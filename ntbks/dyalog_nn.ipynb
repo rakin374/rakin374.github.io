{
 "cells": [
  {
   "cell_type": "code",
   "execution_count": null,
   "id": "3e930130",
   "metadata": {},
   "outputs": [],
   "source": []
  }
 ],
 "metadata": {
  "kernelspec": {
   "display_name": "Dyalog APL",
   "language": "apl",
   "name": "dyalog_apl"
  },
  "language_info": {
   "file_extension": ".apl",
   "mimetype": "text/apl",
   "name": "APL"
  }
 },
 "nbformat": 4,
 "nbformat_minor": 5
}
