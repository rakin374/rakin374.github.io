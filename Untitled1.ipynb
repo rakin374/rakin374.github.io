{
 "cells": [
  {
   "cell_type": "code",
   "execution_count": 2,
   "id": "87df84c0-df13-43fd-8a65-795079dbea41",
   "metadata": {
    "tags": []
   },
   "outputs": [
    {
     "ename": "AssertionError",
     "evalue": "Please, be nice to Wikipedia and specify user agent - https://meta.wikimedia.org/wiki/User-Agent_policy. Current user_agent: 'en' is not sufficient. Use Wikipedia(user_agent='your-user-agent', language='en')",
     "output_type": "error",
     "traceback": [
      "\u001b[0;31m---------------------------------------------------------------------------\u001b[0m",
      "\u001b[0;31mAssertionError\u001b[0m                            Traceback (most recent call last)",
      "Cell \u001b[0;32mIn[2], line 3\u001b[0m\n\u001b[1;32m      1\u001b[0m \u001b[38;5;28;01mimport\u001b[39;00m \u001b[38;5;21;01mwikipediaapi\u001b[39;00m\n\u001b[0;32m----> 3\u001b[0m wiki \u001b[38;5;241m=\u001b[39m wikipediaapi\u001b[38;5;241m.\u001b[39mWikipedia(\u001b[38;5;124m\"\u001b[39m\u001b[38;5;124men\u001b[39m\u001b[38;5;124m\"\u001b[39m)\n\u001b[1;32m      4\u001b[0m page \u001b[38;5;241m=\u001b[39m wiki\u001b[38;5;241m.\u001b[39mpage(\u001b[38;5;124m\"\u001b[39m\u001b[38;5;124mMona_Lisa\u001b[39m\u001b[38;5;124m\"\u001b[39m)\n\u001b[1;32m      6\u001b[0m \u001b[38;5;66;03m# Get images on the page\u001b[39;00m\n",
      "File \u001b[0;32m/opt/anaconda3/lib/python3.11/site-packages/wikipediaapi/__init__.py:174\u001b[0m, in \u001b[0;36mWikipedia.__init__\u001b[0;34m(self, user_agent, language, variant, extract_format, headers, extra_api_params, **request_kwargs)\u001b[0m\n\u001b[1;32m    169\u001b[0m \u001b[38;5;28;01mif\u001b[39;00m user_agent \u001b[38;5;129;01mis\u001b[39;00m \u001b[38;5;129;01mnot\u001b[39;00m \u001b[38;5;28;01mNone\u001b[39;00m:\n\u001b[1;32m    170\u001b[0m     default_headers\u001b[38;5;241m.\u001b[39msetdefault(\n\u001b[1;32m    171\u001b[0m         \u001b[38;5;124m\"\u001b[39m\u001b[38;5;124mUser-Agent\u001b[39m\u001b[38;5;124m\"\u001b[39m,\n\u001b[1;32m    172\u001b[0m         user_agent,\n\u001b[1;32m    173\u001b[0m     )\n\u001b[0;32m--> 174\u001b[0m used_language, used_variant, used_user_agent \u001b[38;5;241m=\u001b[39m \u001b[38;5;28mself\u001b[39m\u001b[38;5;241m.\u001b[39m_check_and_correct_params(\n\u001b[1;32m    175\u001b[0m     language,\n\u001b[1;32m    176\u001b[0m     variant,\n\u001b[1;32m    177\u001b[0m     default_headers\u001b[38;5;241m.\u001b[39mget(\u001b[38;5;124m\"\u001b[39m\u001b[38;5;124mUser-Agent\u001b[39m\u001b[38;5;124m\"\u001b[39m),\n\u001b[1;32m    178\u001b[0m )\n\u001b[1;32m    180\u001b[0m default_headers[\u001b[38;5;124m\"\u001b[39m\u001b[38;5;124mUser-Agent\u001b[39m\u001b[38;5;124m\"\u001b[39m] \u001b[38;5;241m=\u001b[39m used_user_agent \u001b[38;5;241m+\u001b[39m \u001b[38;5;124m\"\u001b[39m\u001b[38;5;124m (\u001b[39m\u001b[38;5;124m\"\u001b[39m \u001b[38;5;241m+\u001b[39m USER_AGENT \u001b[38;5;241m+\u001b[39m \u001b[38;5;124m\"\u001b[39m\u001b[38;5;124m)\u001b[39m\u001b[38;5;124m\"\u001b[39m\n\u001b[1;32m    182\u001b[0m \u001b[38;5;28mself\u001b[39m\u001b[38;5;241m.\u001b[39mlanguage \u001b[38;5;241m=\u001b[39m used_language\n",
      "File \u001b[0;32m/opt/anaconda3/lib/python3.11/site-packages/wikipediaapi/__init__.py:733\u001b[0m, in \u001b[0;36mWikipedia._check_and_correct_params\u001b[0;34m(language, variant, user_agent)\u001b[0m\n\u001b[1;32m    724\u001b[0m \u001b[38;5;250m\u001b[39m\u001b[38;5;124;03m\"\"\"\u001b[39;00m\n\u001b[1;32m    725\u001b[0m \u001b[38;5;124;03mChecks the constructor parameters and throws AssertionError if they are incorrect.\u001b[39;00m\n\u001b[1;32m    726\u001b[0m \u001b[38;5;124;03mOtherwise, it normalises them to easy use later on.\u001b[39;00m\n\u001b[0;32m   (...)\u001b[0m\n\u001b[1;32m    730\u001b[0m \u001b[38;5;124;03m:return: tuple of language, variant, user_agent\u001b[39;00m\n\u001b[1;32m    731\u001b[0m \u001b[38;5;124;03m\"\"\"\u001b[39;00m\n\u001b[1;32m    732\u001b[0m \u001b[38;5;28;01mif\u001b[39;00m \u001b[38;5;129;01mnot\u001b[39;00m user_agent \u001b[38;5;129;01mor\u001b[39;00m \u001b[38;5;28mlen\u001b[39m(user_agent) \u001b[38;5;241m<\u001b[39m MIN_USER_AGENT_LEN:\n\u001b[0;32m--> 733\u001b[0m     \u001b[38;5;28;01mraise\u001b[39;00m \u001b[38;5;167;01mAssertionError\u001b[39;00m(\n\u001b[1;32m    734\u001b[0m         \u001b[38;5;124m\"\u001b[39m\u001b[38;5;124mPlease, be nice to Wikipedia and specify user agent - \u001b[39m\u001b[38;5;124m\"\u001b[39m\n\u001b[1;32m    735\u001b[0m         \u001b[38;5;241m+\u001b[39m \u001b[38;5;124m\"\u001b[39m\u001b[38;5;124mhttps://meta.wikimedia.org/wiki/User-Agent_policy. Current user_agent: \u001b[39m\u001b[38;5;124m'\u001b[39m\u001b[38;5;124m\"\u001b[39m\n\u001b[1;32m    736\u001b[0m         \u001b[38;5;241m+\u001b[39m \u001b[38;5;28mstr\u001b[39m(user_agent)\n\u001b[1;32m    737\u001b[0m         \u001b[38;5;241m+\u001b[39m \u001b[38;5;124m\"\u001b[39m\u001b[38;5;124m'\u001b[39m\u001b[38;5;124m is not sufficient. \u001b[39m\u001b[38;5;124m\"\u001b[39m\n\u001b[1;32m    738\u001b[0m         \u001b[38;5;241m+\u001b[39m \u001b[38;5;124m\"\u001b[39m\u001b[38;5;124mUse Wikipedia(user_agent=\u001b[39m\u001b[38;5;124m'\u001b[39m\u001b[38;5;124myour-user-agent\u001b[39m\u001b[38;5;124m'\u001b[39m\u001b[38;5;124m, language=\u001b[39m\u001b[38;5;124m'\u001b[39m\u001b[38;5;124m\"\u001b[39m\n\u001b[1;32m    739\u001b[0m         \u001b[38;5;241m+\u001b[39m (\u001b[38;5;28mstr\u001b[39m(user_agent) \u001b[38;5;129;01mor\u001b[39;00m \u001b[38;5;124m\"\u001b[39m\u001b[38;5;124myour-language\u001b[39m\u001b[38;5;124m\"\u001b[39m)\n\u001b[1;32m    740\u001b[0m         \u001b[38;5;241m+\u001b[39m \u001b[38;5;124m\"\u001b[39m\u001b[38;5;124m'\u001b[39m\u001b[38;5;124m)\u001b[39m\u001b[38;5;124m\"\u001b[39m\n\u001b[1;32m    741\u001b[0m     )\n\u001b[1;32m    743\u001b[0m \u001b[38;5;28;01mif\u001b[39;00m \u001b[38;5;129;01mnot\u001b[39;00m language:\n\u001b[1;32m    744\u001b[0m     \u001b[38;5;28;01mraise\u001b[39;00m \u001b[38;5;167;01mAssertionError\u001b[39;00m(\n\u001b[1;32m    745\u001b[0m         \u001b[38;5;124m\"\u001b[39m\u001b[38;5;124mSpecify language. Current language: \u001b[39m\u001b[38;5;124m'\u001b[39m\u001b[38;5;124m\"\u001b[39m\n\u001b[1;32m    746\u001b[0m         \u001b[38;5;241m+\u001b[39m \u001b[38;5;28mstr\u001b[39m(language)\n\u001b[0;32m   (...)\u001b[0m\n\u001b[1;32m    750\u001b[0m         \u001b[38;5;241m+\u001b[39m \u001b[38;5;124m\"\u001b[39m\u001b[38;5;124m'\u001b[39m\u001b[38;5;124m, language=\u001b[39m\u001b[38;5;124m'\u001b[39m\u001b[38;5;124myour-language\u001b[39m\u001b[38;5;124m'\u001b[39m\u001b[38;5;124m)\u001b[39m\u001b[38;5;124m\"\u001b[39m\n\u001b[1;32m    751\u001b[0m     )\n",
      "\u001b[0;31mAssertionError\u001b[0m: Please, be nice to Wikipedia and specify user agent - https://meta.wikimedia.org/wiki/User-Agent_policy. Current user_agent: 'en' is not sufficient. Use Wikipedia(user_agent='your-user-agent', language='en')"
     ]
    }
   ],
   "source": [
    "import wikipediaapi\n",
    "\n",
    "wiki = wikipediaapi.Wikipedia(\"en\")\n",
    "page = wiki.page(\"Mona_Lisa\")\n",
    "\n",
    "# Get images on the page\n",
    "images = page.images\n",
    "for img in images:\n",
    "    print(img)  # Prints the Wikimedia Commons image URLs"
   ]
  },
  {
   "cell_type": "code",
   "execution_count": null,
   "id": "2a858889-a062-40bd-9c1a-1c03814b62d4",
   "metadata": {},
   "outputs": [],
   "source": []
  }
 ],
 "metadata": {
  "kernelspec": {
   "display_name": "Python 3 (ipykernel)",
   "language": "python",
   "name": "python3"
  },
  "language_info": {
   "codemirror_mode": {
    "name": "ipython",
    "version": 3
   },
   "file_extension": ".py",
   "mimetype": "text/x-python",
   "name": "python",
   "nbconvert_exporter": "python",
   "pygments_lexer": "ipython3",
   "version": "3.11.7"
  }
 },
 "nbformat": 4,
 "nbformat_minor": 5
}
