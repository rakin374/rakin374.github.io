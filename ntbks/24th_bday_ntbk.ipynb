{
 "cells": [
  {
   "cell_type": "markdown",
   "id": "8d352936-f983-4a06-b539-a2f6ef9d407f",
   "metadata": {
    "tags": []
   },
   "source": [
    "# 24\n",
    "### a notebook from 3.13.2025\n"
   ]
  },
  {
   "cell_type": "markdown",
   "id": "a4576c23-0015-4ddd-aadd-a5433a757fe3",
   "metadata": {
    "tags": []
   },
   "source": [
    "\n",
    "\n",
    "Inspirationn\n",
    "- https://paulbourke.net/fractals/lsys/\n",
    "\n",
    "`\n",
    "for i in range(3):\n",
    "    print(\"hello world\")\n",
    "`\n",
    "\n",
    "# section 2 \n",
    "> block quotes baby \n",
    "there are tons \n",
    "hello\n",
    "hi tehre \n",
    "---\n",
    "# section 3\n",
    "\n",
    "\n",
    "|Some first header| Some second header|\n",
    "|-----------------|-------------------|\n",
    " 1|2\n",
    " 112 |2\n",
    " \n",
    " \n",
    "- [X] Task 1\n",
    "- [x] Task 2\n",
    "\n",
    "\\# This is not a heading\n",
    "\n",
    "\n",
    "\\* This is not italic\n",
    "\n",
    "<span style=\"color:red\">This is red text</span>\n",
    "<span style=\"background-color:yellow\">This text has a yellow background</span>\n",
    "\n",
    "\n",
    "![Build Status](https://img.shields.io/badge/build-passing-brightgreen)\n",
    "![License](https://img.shields.io/badge/license-MIT-blue)\n",
    "\n",
    "```python\n",
    "def hello_world():\n",
    "    print(\"Hello, World!\")\n",
    "```\n",
    "\n",
    "This is a simple text with a footnote[^1].\n",
    "\n",
    "[^1]: This is the footnote content."
   ]
  },
  {
   "cell_type": "code",
   "execution_count": 41,
   "id": "f05c483f-c8cf-41f6-ad6e-bcf2acc8d250",
   "metadata": {
    "tags": []
   },
   "outputs": [
    {
     "data": {
      "application/vnd.jupyter.widget-view+json": {
       "model_id": "933788d2f9db485ba529e356b393dfff",
       "version_major": 2,
       "version_minor": 0
      },
      "text/plain": [
       "Button(description='Click Me!', style=ButtonStyle())"
      ]
     },
     "execution_count": 41,
     "metadata": {},
     "output_type": "execute_result"
    }
   ],
   "source": [
    "\n",
    "import ipywidgets as widgets\n",
    "\n",
    "widgets.Button(description=\"Click Me!\")\n",
    "    "
   ]
  },
  {
   "cell_type": "code",
   "execution_count": 45,
   "id": "651f81c1-27e0-4210-8893-569a9dc2a01c",
   "metadata": {
    "tags": []
   },
   "outputs": [
    {
     "data": {
      "application/vnd.jupyter.widget-view+json": {
       "model_id": "1fdb2e9a26ce43388cd9bdc6386f3781",
       "version_major": 2,
       "version_minor": 0
      },
      "text/plain": [
       "IntSlider(value=10, description='Slider:')"
      ]
     },
     "metadata": {},
     "output_type": "display_data"
    }
   ],
   "source": [
    "import ipywidgets as widgets\n",
    "\n",
    "slider = widgets.IntSlider(value=10, min=0, max=100, step=1, description='Slider:')\n",
    "display(slider)\n",
    "\n"
   ]
  },
  {
   "cell_type": "code",
   "execution_count": 47,
   "id": "099dc4ce-c666-4443-a29e-d03b639a8075",
   "metadata": {
    "tags": []
   },
   "outputs": [
    {
     "data": {
      "application/vnd.jupyter.widget-view+json": {
       "model_id": "0e6af274034d410183213a176456dc9d",
       "version_major": 2,
       "version_minor": 0
      },
      "text/plain": [
       "Button(description='Click Me', style=ButtonStyle())"
      ]
     },
     "metadata": {},
     "output_type": "display_data"
    }
   ],
   "source": [
    "def on_button_click(b):\n",
    "    print(\"Button clicked!\")\n",
    "\n",
    "button = widgets.Button(description=\"Click Me\")\n",
    "button.on_click(on_button_click)\n",
    "display(button)"
   ]
  },
  {
   "cell_type": "code",
   "execution_count": 49,
   "id": "8b104428-f313-4ce8-af66-c8de2e6c9df8",
   "metadata": {
    "tags": []
   },
   "outputs": [
    {
     "data": {
      "application/vnd.jupyter.widget-view+json": {
       "model_id": "0bab2131e03444249240a6b8fcde6b8d",
       "version_major": 2,
       "version_minor": 0
      },
      "text/plain": [
       "Dropdown(description='Choose:', options=('Option 1', 'Option 2', 'Option 3'), value='Option 1')"
      ]
     },
     "metadata": {},
     "output_type": "display_data"
    }
   ],
   "source": [
    "dropdown = widgets.Dropdown(options=['Option 1', 'Option 2', 'Option 3'], description='Choose:')\n",
    "display(dropdown)"
   ]
  },
  {
   "cell_type": "code",
   "execution_count": 51,
   "id": "2bea0a29-c970-4311-9707-ef9662f56390",
   "metadata": {
    "tags": []
   },
   "outputs": [
    {
     "data": {
      "application/vnd.jupyter.widget-view+json": {
       "model_id": "daa0ce9cad4646f29053535c33f97761",
       "version_major": 2,
       "version_minor": 0
      },
      "text/plain": [
       "RadioButtons(description='Choose:', options=('Option 1', 'Option 2', 'Option 3'), value='Option 1')"
      ]
     },
     "metadata": {},
     "output_type": "display_data"
    }
   ],
   "source": [
    "radio_buttons = widgets.RadioButtons(options=['Option 1', 'Option 2', 'Option 3'], description='Choose:')\n",
    "display(radio_buttons)"
   ]
  },
  {
   "cell_type": "code",
   "execution_count": 53,
   "id": "edb10957-e333-48c3-bad8-b74bb37b93fd",
   "metadata": {
    "tags": []
   },
   "outputs": [
    {
     "data": {
      "application/vnd.jupyter.widget-view+json": {
       "model_id": "0614746684834c2987860e2e79092b5e",
       "version_major": 2,
       "version_minor": 0
      },
      "text/plain": [
       "FileUpload(value=(), description='Upload File')"
      ]
     },
     "metadata": {},
     "output_type": "display_data"
    }
   ],
   "source": [
    "upload = widgets.FileUpload(description=\"Upload File\")\n",
    "display(upload)"
   ]
  },
  {
   "cell_type": "code",
   "execution_count": 55,
   "id": "b4e4863a-ff60-41bd-aa9b-7b90a63c8db1",
   "metadata": {
    "tags": []
   },
   "outputs": [
    {
     "data": {
      "application/vnd.jupyter.widget-view+json": {
       "model_id": "1865fd1935c34c06af3096c67c7db22b",
       "version_major": 2,
       "version_minor": 0
      },
      "text/plain": [
       "interactive(children=(FloatSlider(value=1.0, description='Frequency:', max=5.0, min=0.1), Output()), _dom_clas…"
      ]
     },
     "execution_count": 55,
     "metadata": {},
     "output_type": "execute_result"
    }
   ],
   "source": [
    "import matplotlib.pyplot as plt\n",
    "import numpy as np\n",
    "\n",
    "def plot_graph(frequency=1.0):\n",
    "    x = np.linspace(0, 10, 100)\n",
    "    y = np.sin(frequency * x)\n",
    "    plt.plot(x, y)\n",
    "    plt.show()\n",
    "\n",
    "frequency_slider = widgets.FloatSlider(value=1.0, min=0.1, max=5.0, step=0.1, description='Frequency:')\n",
    "widgets.interactive(plot_graph, frequency=frequency_slider)"
   ]
  },
  {
   "cell_type": "code",
   "execution_count": 57,
   "id": "625fc9dc-ee21-4b56-8e81-471b4389c57f",
   "metadata": {
    "tags": []
   },
   "outputs": [
    {
     "data": {
      "application/vnd.jupyter.widget-view+json": {
       "model_id": "df62d7e00aad4ab596c3463d8308004f",
       "version_major": 2,
       "version_minor": 0
      },
      "text/plain": [
       "Accordion(children=(Label(value='First panel'), Label(value='Second panel')), titles=('Panel 1', 'Panel 2'))"
      ]
     },
     "metadata": {},
     "output_type": "display_data"
    }
   ],
   "source": [
    "accordion = widgets.Accordion(children=[widgets.Label('First panel'), widgets.Label('Second panel')])\n",
    "accordion.set_title(0, 'Panel 1')\n",
    "accordion.set_title(1, 'Panel 2')\n",
    "display(accordion)"
   ]
  },
  {
   "cell_type": "code",
   "execution_count": 61,
   "id": "3d56929c-cf17-40a4-9b29-5a747e4ebe9c",
   "metadata": {
    "tags": []
   },
   "outputs": [
    {
     "data": {
      "application/vnd.jupyter.widget-view+json": {
       "model_id": "abb7a40c06bc45ebb139ddcf6097b3e7",
       "version_major": 2,
       "version_minor": 0
      },
      "text/plain": [
       "ColorPicker(value='blue', description='Pick a color:')"
      ]
     },
     "metadata": {},
     "output_type": "display_data"
    }
   ],
   "source": [
    "color_picker = widgets.ColorPicker(value='blue', description='Pick a color:')\n",
    "display(color_picker)"
   ]
  },
  {
   "cell_type": "code",
   "execution_count": 63,
   "id": "d8e27392-b8d9-4d83-af1f-48cb824d9583",
   "metadata": {
    "tags": []
   },
   "outputs": [
    {
     "data": {
      "application/vnd.jupyter.widget-view+json": {
       "model_id": "cdc4be17c6f8416f920650fe17516e44",
       "version_major": 2,
       "version_minor": 0
      },
      "text/plain": [
       "FloatSlider(value=0.0, description='Slider:')"
      ]
     },
     "metadata": {},
     "output_type": "display_data"
    }
   ],
   "source": [
    "h_slider = widgets.FloatSlider(min=0.0, max=100.0, step=0.1, description=\"Slider:\")\n",
    "display(h_slider)"
   ]
  },
  {
   "cell_type": "code",
   "execution_count": 65,
   "id": "3a6feee1-af13-44a1-82d5-afec181498a2",
   "metadata": {
    "tags": []
   },
   "outputs": [
    {
     "data": {
      "application/vnd.jupyter.widget-view+json": {
       "model_id": "9520efa2b807431aad8dd277877ba2b6",
       "version_major": 2,
       "version_minor": 0
      },
      "text/plain": [
       "interactive(children=(FloatSlider(value=0.0, description='x', max=10.0), FloatSlider(value=0.0, description='y…"
      ]
     },
     "execution_count": 65,
     "metadata": {},
     "output_type": "execute_result"
    }
   ],
   "source": [
    "def update_graph(x=1.0, y=1.0):\n",
    "    x_vals = np.linspace(0, 10, 100)\n",
    "    y_vals = x * np.sin(y * x_vals)\n",
    "    plt.plot(x_vals, y_vals)\n",
    "    plt.show()\n",
    "\n",
    "widgets.interactive(update_graph, x=widgets.FloatSlider(min=0, max=10, step=0.1), y=widgets.FloatSlider(min=0, max=10, step=0.1))"
   ]
  },
  {
   "cell_type": "markdown",
   "id": "70afd46e-f756-45af-bf66-8c2a3665c5ed",
   "metadata": {},
   "source": [
    "## L Systems\n",
    "1. https://paulbourke.net/fractals/lsys/\n",
    "2. https://github.com/pvigier/lsystem\n",
    "3.\n",
    "https://colab.research.google.com/github/paulgb/bitaesthetics/blob/master/notebooks/Fractal%20Generation%20with%20L-Systems.ipynb#scrollTo=n1mJ-wiwOpEa\n",
    "\n"
   ]
  },
  {
   "cell_type": "code",
   "execution_count": 1,
   "id": "1ac95873-8800-4a56-8dc5-f2bba6d566cb",
   "metadata": {
    "tags": []
   },
   "outputs": [],
   "source": [
    "#https://github.com/pvigier/lsystem\n",
    "import sys\n",
    "sys.path.append('/Users/rakin/Projects/python/lsystem')"
   ]
  },
  {
   "cell_type": "markdown",
   "id": "52fae807-7892-493f-a665-916df3ca9cbc",
   "metadata": {},
   "source": [
    "# Representations \n",
    "- USD(a,c,etc)\n",
    "- STL \n",
    "- OBJ\n"
   ]
  },
  {
   "cell_type": "code",
   "execution_count": null,
   "id": "a43a7b66-da08-4036-9f16-26eac131502b",
   "metadata": {},
   "outputs": [],
   "source": []
  }
 ],
 "metadata": {
  "kernelspec": {
   "display_name": "Python 3 (ipykernel)",
   "language": "python",
   "name": "python3"
  },
  "language_info": {
   "codemirror_mode": {
    "name": "ipython",
    "version": 3
   },
   "file_extension": ".py",
   "mimetype": "text/x-python",
   "name": "python",
   "nbconvert_exporter": "python",
   "pygments_lexer": "ipython3",
   "version": "3.11.7"
  }
 },
 "nbformat": 4,
 "nbformat_minor": 5
}
